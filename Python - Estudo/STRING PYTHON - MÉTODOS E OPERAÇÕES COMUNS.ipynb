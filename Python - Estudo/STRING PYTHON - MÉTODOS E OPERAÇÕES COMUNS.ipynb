{
 "cells": [
  {
   "cell_type": "markdown",
   "metadata": {},
   "source": [
    "# Strings"
   ]
  },
  {
   "cell_type": "markdown",
   "metadata": {},
   "source": [
    "Strings em python é uma lista de caracteres, isso significa que a mesma pode ser acessada, indice por indice, assim como as listas convencionais"
   ]
  },
  {
   "cell_type": "code",
   "execution_count": 2,
   "metadata": {},
   "outputs": [],
   "source": [
    "email = 'lucas@gmail.com'\n",
    "nome = 'Lucas'"
   ]
  },
  {
   "cell_type": "code",
   "execution_count": 22,
   "metadata": {},
   "outputs": [
    {
     "name": "stdout",
     "output_type": "stream",
     "text": [
      "Meu nome é Lucas\n",
      "O tamanho da variavel nome é de: 5\n",
      "O caractere posicionado no indice zero da variavel nome é: L\n"
     ]
    }
   ],
   "source": [
    "print('Meu nome é ' + nome)\n",
    "print(f\"O tamanho da variavel nome é de: {len(nome)}\")\n",
    "print(f\"O caractere posicionado no indice zero da variavel nome é: {nome[0]}\")"
   ]
  },
  {
   "cell_type": "code",
   "execution_count": 19,
   "metadata": {},
   "outputs": [
    {
     "name": "stdout",
     "output_type": "stream",
     "text": [
      "lucas@gmail.com\n",
      "cas@gmail.com\n",
      "lu\n",
      "com\n",
      "lucas@gmail.\n",
      "@\n"
     ]
    }
   ],
   "source": [
    "# PEGAR CARACTERES ESPECÍFICOS DENTRO DE UMA STRING\n",
    "\n",
    "print(email[:])  # Contém tudo\n",
    "print(email[2:]) # Contém tudo a partir do indice 2\n",
    "print(email[:2]) # Contém até (exclusivamente) o indice 2\n",
    "print(email[-3:]) # Contém os 3 ultimos indices\n",
    "print(email[:-3]) # Contém tudo menos os 3 ultimos indices\n",
    "print(email[5:6]) # Contém tudo a partir do indice 5, porem exclui tudo a partir do indice"
   ]
  },
  {
   "cell_type": "markdown",
   "metadata": {},
   "source": [
    "# Operações com String"
   ]
  },
  {
   "cell_type": "markdown",
   "metadata": {},
   "source": [
    "<b>str</b> -> transforma o numero em string <br>\n",
    "<b>in</b> -> verifica se um texto esta contido dentro de outro <br>\n",
    "<b>operador +</b> -> concatenar string <br>\n",
    "<b>format e {}</b> -> substitui valores <br>\n",
    "<b>%s</b> -> substitui textos <br>\n",
    "<b>%d</b> -> substitui numeros decimais"
   ]
  },
  {
   "cell_type": "code",
   "execution_count": 23,
   "metadata": {},
   "outputs": [],
   "source": [
    "faturamento = 1000\n",
    "custo = 500\n",
    "lucro = faturamento - custo"
   ]
  },
  {
   "cell_type": "markdown",
   "metadata": {},
   "source": [
    "Uso do str() e do concatenar com +"
   ]
  },
  {
   "cell_type": "code",
   "execution_count": 24,
   "metadata": {},
   "outputs": [
    {
     "name": "stdout",
     "output_type": "stream",
     "text": [
      "O faturamento da loja foi de: 1000\n"
     ]
    }
   ],
   "source": [
    "print('O faturamento da loja foi de: ' + str(faturamento))"
   ]
  },
  {
   "cell_type": "markdown",
   "metadata": {},
   "source": [
    "Uso do Format"
   ]
  },
  {
   "cell_type": "code",
   "execution_count": 25,
   "metadata": {},
   "outputs": [
    {
     "name": "stdout",
     "output_type": "stream",
     "text": [
      "O faturamento foi de: 1000\n"
     ]
    }
   ],
   "source": [
    "print('O faturamento foi de: {}'.format(faturamento))"
   ]
  },
  {
   "cell_type": "markdown",
   "metadata": {},
   "source": [
    "Uso do %s e %d"
   ]
  },
  {
   "cell_type": "code",
   "execution_count": 26,
   "metadata": {},
   "outputs": [
    {
     "name": "stdout",
     "output_type": "stream",
     "text": [
      "O faturamento foi de: 1000 e o lucro foi de 500\n"
     ]
    }
   ],
   "source": [
    "print('O faturamento foi de: %d e o lucro foi de %d' % (faturamento, lucro))"
   ]
  },
  {
   "cell_type": "markdown",
   "metadata": {},
   "source": [
    "Uso do in"
   ]
  },
  {
   "cell_type": "code",
   "execution_count": 27,
   "metadata": {},
   "outputs": [
    {
     "name": "stdout",
     "output_type": "stream",
     "text": [
      "True\n",
      "False\n"
     ]
    }
   ],
   "source": [
    "print('@' in 'lucas@gmail.com')\n",
    "print('@' in 'lucasgmail.com')"
   ]
  },
  {
   "cell_type": "markdown",
   "metadata": {},
   "source": [
    "## Métoddos de String"
   ]
  },
  {
   "cell_type": "markdown",
   "metadata": {},
   "source": [
    "* capitalize() -> Coloca a 1ª letra Maiuscula"
   ]
  },
  {
   "cell_type": "code",
   "execution_count": 28,
   "metadata": {},
   "outputs": [
    {
     "name": "stdout",
     "output_type": "stream",
     "text": [
      "Lucas\n"
     ]
    }
   ],
   "source": [
    "# Uso:\n",
    "texto = 'lucas'\n",
    "print(texto.capitalize())"
   ]
  },
  {
   "cell_type": "markdown",
   "metadata": {},
   "source": [
    "* casefold() -> Transforma todas a letras em minusculas (existe lower()) mas o casefold é melhor normalmente)"
   ]
  },
  {
   "cell_type": "code",
   "execution_count": 29,
   "metadata": {},
   "outputs": [
    {
     "name": "stdout",
     "output_type": "stream",
     "text": [
      "lucas\n"
     ]
    }
   ],
   "source": [
    "# Uso\n",
    "texto = 'LUCAS'\n",
    "print(texto.casefold())"
   ]
  },
  {
   "cell_type": "markdown",
   "metadata": {},
   "source": [
    "* count() -> Quantidade de vezes que um valor aparece na string"
   ]
  },
  {
   "cell_type": "code",
   "execution_count": 30,
   "metadata": {},
   "outputs": [
    {
     "name": "stdout",
     "output_type": "stream",
     "text": [
      "3\n"
     ]
    }
   ],
   "source": [
    "# Uso\n",
    "texto = 'lucasm@gmail.com'\n",
    "print(texto.count('m'))"
   ]
  },
  {
   "cell_type": "markdown",
   "metadata": {},
   "source": [
    "* endswith() -> Verifica se o texto termina com um valor especifico a resposta vem com True ou False"
   ]
  },
  {
   "cell_type": "code",
   "execution_count": 31,
   "metadata": {},
   "outputs": [
    {
     "name": "stdout",
     "output_type": "stream",
     "text": [
      "True\n"
     ]
    }
   ],
   "source": [
    "# Uso\n",
    "texto = 'lucas@gmail.com'\n",
    "print(texto.endswith('@gmail.com'))"
   ]
  },
  {
   "cell_type": "markdown",
   "metadata": {},
   "source": [
    "* find() -> Procura um texto denteo de outro e da como resposta a posicao do texto encontrado"
   ]
  },
  {
   "cell_type": "code",
   "execution_count": 37,
   "metadata": {},
   "outputs": [
    {
     "name": "stdout",
     "output_type": "stream",
     "text": [
      "5\n",
      "7\n",
      "@gmailt.com\n"
     ]
    }
   ],
   "source": [
    "# Uso\n",
    "texto = 'Lucas@gmailt.com'\n",
    "print(texto.find('@'))\n",
    "print(texto[texto.find('@'):].find('.'))\n",
    "print(texto[texto.find('@'):])"
   ]
  },
  {
   "cell_type": "markdown",
   "metadata": {},
   "source": [
    "* format() - > Formata uma string de acordo com os valores passados."
   ]
  },
  {
   "cell_type": "code",
   "execution_count": 38,
   "metadata": {},
   "outputs": [
    {
     "name": "stdout",
     "output_type": "stream",
     "text": [
      "O faturamento foi de 1000\n"
     ]
    }
   ],
   "source": [
    "#Uso\n",
    "faturamento = 1000\n",
    "print('O faturamento foi de {}'.format(faturamento))"
   ]
  },
  {
   "cell_type": "markdown",
   "metadata": {},
   "source": [
    "* isnalnum() -> Verifica se um texto é todo feito por caracteres alfanumericos (letras e numeros)"
   ]
  },
  {
   "cell_type": "code",
   "execution_count": 39,
   "metadata": {},
   "outputs": [
    {
     "name": "stdout",
     "output_type": "stream",
     "text": [
      "True\n",
      "False\n"
     ]
    }
   ],
   "source": [
    "#Uso\n",
    "texto = 'João123'\n",
    "texto2 = 'João123#'\n",
    "print(texto.isalnum())\n",
    "print(texto2.isalnum())"
   ]
  },
  {
   "cell_type": "markdown",
   "metadata": {},
   "source": [
    "* isalpha() -> Verifica se um texto é todo feito de letras"
   ]
  },
  {
   "cell_type": "code",
   "execution_count": 40,
   "metadata": {},
   "outputs": [
    {
     "name": "stdout",
     "output_type": "stream",
     "text": [
      "True\n",
      "False\n"
     ]
    }
   ],
   "source": [
    "#Uso\n",
    "texto = 'João'\n",
    "texto2 = 'João123'\n",
    "print(texto.isalpha())\n",
    "print(texto2.isalpha())"
   ]
  },
  {
   "cell_type": "markdown",
   "metadata": {},
   "source": [
    "* replace() -> Substitui um texto por um outro texto em uma string"
   ]
  },
  {
   "cell_type": "code",
   "execution_count": 41,
   "metadata": {},
   "outputs": [
    {
     "name": "stdout",
     "output_type": "stream",
     "text": [
      "1000,00\n"
     ]
    }
   ],
   "source": [
    "#Uso\n",
    "\n",
    "texto = '1000.00'\n",
    "print(texto.replace('.', ','))"
   ]
  },
  {
   "cell_type": "markdown",
   "metadata": {},
   "source": [
    "* split () -> Separa uma string de acordo com um delimitador em varios textos diferentes"
   ]
  },
  {
   "cell_type": "code",
   "execution_count": 42,
   "metadata": {},
   "outputs": [
    {
     "name": "stdout",
     "output_type": "stream",
     "text": [
      "['lucas', 'gmail']\n"
     ]
    }
   ],
   "source": [
    "# Uso\n",
    "texto = 'lucas@gmail'\n",
    "print(texto.split('@'))"
   ]
  },
  {
   "cell_type": "markdown",
   "metadata": {},
   "source": [
    "* splitlines() - separa um texto em varios textos de acordo com os 'enters' do texto"
   ]
  },
  {
   "cell_type": "code",
   "execution_count": 43,
   "metadata": {},
   "outputs": [
    {
     "name": "stdout",
     "output_type": "stream",
     "text": [
      "['Olá, bom dia', 'Venho por meio desse email', 'Obrigado', 'Lucas Ramalho']\n"
     ]
    }
   ],
   "source": [
    "#Uso:\n",
    "texto = '''Olá, bom dia\n",
    "Venho por meio desse email\n",
    "Obrigado\n",
    "Lucas Ramalho'''\n",
    "\n",
    "print(texto.splitlines())"
   ]
  },
  {
   "cell_type": "markdown",
   "metadata": {},
   "source": [
    "* startswith() -. Verifica se a string comeca com determinado texto"
   ]
  },
  {
   "cell_type": "code",
   "execution_count": 44,
   "metadata": {},
   "outputs": [
    {
     "name": "stdout",
     "output_type": "stream",
     "text": [
      "True\n"
     ]
    }
   ],
   "source": [
    "#Uso:\n",
    "texto = 'BEB1234'\n",
    "print(texto.startswith('BEB'))"
   ]
  },
  {
   "cell_type": "markdown",
   "metadata": {},
   "source": [
    "* title() -> Coloca a primeira letra de cada palavra em maiuscula"
   ]
  },
  {
   "cell_type": "code",
   "execution_count": 45,
   "metadata": {},
   "outputs": [
    {
     "name": "stdout",
     "output_type": "stream",
     "text": [
      "Lucas Ramalho Do Nascimento\n"
     ]
    }
   ],
   "source": [
    "#Uso\n",
    "texto = 'lucas ramalho do nascimento'\n",
    "print(texto.title())"
   ]
  },
  {
   "cell_type": "markdown",
   "metadata": {},
   "source": [
    "* upper() -> Coloca o texto todo em letra maiuscula"
   ]
  },
  {
   "cell_type": "code",
   "execution_count": 46,
   "metadata": {},
   "outputs": [
    {
     "name": "stdout",
     "output_type": "stream",
     "text": [
      "LUCAS RAMALHO\n"
     ]
    }
   ],
   "source": [
    "texto = 'lucas ramalho'\n",
    "print(texto.upper())"
   ]
  }
 ],
 "metadata": {
  "kernelspec": {
   "display_name": "Python 3",
   "language": "python",
   "name": "python3"
  },
  "language_info": {
   "codemirror_mode": {
    "name": "ipython",
    "version": 3
   },
   "file_extension": ".py",
   "mimetype": "text/x-python",
   "name": "python",
   "nbconvert_exporter": "python",
   "pygments_lexer": "ipython3",
   "version": "3.8.5"
  }
 },
 "nbformat": 4,
 "nbformat_minor": 4
}
