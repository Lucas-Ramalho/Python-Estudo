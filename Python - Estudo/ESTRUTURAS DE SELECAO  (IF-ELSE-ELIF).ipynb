{
 "cells": [
  {
   "cell_type": "markdown",
   "metadata": {},
   "source": [
    "# ESTRUTURAS DE SELEÇÃO  E OPERADORES LÓGICOS EM PYTHON"
   ]
  },
  {
   "cell_type": "markdown",
   "metadata": {},
   "source": [
    "## Estruturas de seleção"
   ]
  },
  {
   "cell_type": "markdown",
   "metadata": {},
   "source": [
    "As estruturas de seleção são declarações condicionais que fornecem a tomada de decisão necessária quando desejamos executar um código com base em uma condição específica, ou seja, quando temos determinado bloco de código e queremos que ele seja executado apenas se uma determinada condição for verdadeira."
   ]
  },
  {
   "cell_type": "markdown",
   "metadata": {},
   "source": [
    "As estruturas de seleção em python são: <b>IF, ELIF, ELSE<b>"
   ]
  },
  {
   "cell_type": "markdown",
   "metadata": {},
   "source": [
    "<b>IF<b>\n",
    "    \n",
    "Na estrutura mais básica do IF, iremos checar uma determinada condição e se ela for a satisfeita, a expressao que esta dentro do IF, será realizado, caso contrário ele irá simplesmente pular esse bloco.<br>\n",
    "     \n",
    "    Estrutura"
   ]
  },
  {
   "cell_type": "raw",
   "metadata": {},
   "source": [
    "if condição:\n",
    "    expressão"
   ]
  },
  {
   "cell_type": "markdown",
   "metadata": {},
   "source": [
    "Exemplos:"
   ]
  },
  {
   "cell_type": "code",
   "execution_count": 6,
   "metadata": {},
   "outputs": [
    {
     "name": "stdout",
     "output_type": "stream",
     "text": [
      "Digite o número para saber se ele é par: 100\n",
      "O número 100 é par\n"
     ]
    }
   ],
   "source": [
    "# VERIFICANDO SE O NÚMERO DIGITADO É PAR\n",
    "\n",
    "num = int(input(\"Digite o número para saber se ele é par: \"))\n",
    "if num % 2 == 0:\n",
    "    print(f\"O número {num} é par\")"
   ]
  },
  {
   "cell_type": "code",
   "execution_count": 7,
   "metadata": {},
   "outputs": [
    {
     "name": "stdout",
     "output_type": "stream",
     "text": [
      "Informe a total de vendas do funcionario:  3500\n",
      "O funcionário bateu a meta\n"
     ]
    }
   ],
   "source": [
    "# VERIFICANDO SE O FUNCIONARIO BATEU A META DE ACORDO COM O SEU TOTAL DE VENDAS\n",
    "\n",
    "meta_vendas = 3000\n",
    "vendas_funcionario = int(input(\"Informe a total de vendas do funcionario:  \"))\n",
    "\n",
    "if vendas_funcionario > meta_vendas:\n",
    "    print(\"O funcionário bateu a meta\")"
   ]
  },
  {
   "cell_type": "markdown",
   "metadata": {},
   "source": [
    " "
   ]
  },
  {
   "cell_type": "markdown",
   "metadata": {},
   "source": [
    "<b>IF-ELSE<b>\n",
    "    \n",
    "A estrutura IF-ELSE adiciona um etapa extra no processo de tomada de decisao, nesse caso, caso a condição testada seja falsa, o programa irá realizar o código dentro do ELSE <br>\n",
    "     \n",
    "    Estrutura"
   ]
  },
  {
   "cell_type": "raw",
   "metadata": {},
   "source": [
    "if condicao:\n",
    "    expressao\n",
    "else: \n",
    "    expressao"
   ]
  },
  {
   "cell_type": "markdown",
   "metadata": {},
   "source": [
    "Exemplos:"
   ]
  },
  {
   "cell_type": "code",
   "execution_count": 12,
   "metadata": {},
   "outputs": [
    {
     "name": "stdout",
     "output_type": "stream",
     "text": [
      "Digite o número para saber se ele é par: 11\n",
      "O número 11 é impar\n"
     ]
    }
   ],
   "source": [
    "# VERIFICANDO SE O NÚMERO DIGITADO É PAR OU IMPAR\n",
    "\n",
    "num = int(input(\"Digite o número para saber se ele é par: \"))\n",
    "if num % 2 == 0:\n",
    "    print(f\"O número {num} é par\")\n",
    "else:\n",
    "    print(f\"O número {num} é impar\")"
   ]
  },
  {
   "cell_type": "code",
   "execution_count": 14,
   "metadata": {},
   "outputs": [
    {
     "name": "stdout",
     "output_type": "stream",
     "text": [
      "Informe a total de vendas do funcionario:  3500\n",
      "O funcionário bateu a meta\n"
     ]
    }
   ],
   "source": [
    "# VERIFICANDO SE O FUNCIONARIO BATEU A META DE ACORDO COM O SEU TOTAL DE VENDAS OU NÃO\n",
    "\n",
    "meta_vendas = 3000\n",
    "vendas_funcionario = int(input(\"Informe a total de vendas do funcionario:  \"))\n",
    "\n",
    "if vendas_funcionario > meta_vendas:\n",
    "    print(\"O funcionário bateu a meta\")\n",
    "else:\n",
    "    print(\"O funcionario NÃO bateu a meta\")"
   ]
  },
  {
   "cell_type": "markdown",
   "metadata": {},
   "source": [
    "  "
   ]
  },
  {
   "cell_type": "markdown",
   "metadata": {},
   "source": [
    "<b>IF-ELIF-ELSE<b>\n",
    "    \n",
    "A estrutura IF-ELSE adiciona um etapa extra no processo de tomada de decisao, nesse caso, caso a condição testada seja falsa, o programa irá realizar o código dentro do ELSE <br>\n",
    "     \n",
    "    Estrutura"
   ]
  },
  {
   "cell_type": "raw",
   "metadata": {},
   "source": [
    "if condicao:\n",
    "    expressao\n",
    "elif condicao:\n",
    "    expressao\n",
    "else: \n",
    "    expressao"
   ]
  },
  {
   "cell_type": "code",
   "execution_count": 22,
   "metadata": {},
   "outputs": [
    {
     "name": "stdout",
     "output_type": "stream",
     "text": [
      "Informe a cor do semáforo: Azul\n",
      "Vermelho: Pare!\n"
     ]
    }
   ],
   "source": [
    "# VERIFICANDO OS AVISOS DO SEMÁFORO\n",
    "\n",
    "cor_do_semaforo = input(\"Informe a cor do semáforo: \")\n",
    "\n",
    "if cor_do_semaforo == \"Verde\":\n",
    "    print(\"Verde: Permitido prosseguir\")\n",
    "elif cor_do_semaforo == \"Amarelo\":\n",
    "    print(\"Amarelo: Atenção, reduza a velocidade!\")\n",
    "else:\n",
    "    print(\"Vermelho: Pare!\")"
   ]
  },
  {
   "cell_type": "markdown",
   "metadata": {},
   "source": [
    "<b>O Elif pode ser utilizado diversas vezes, dando maior robustez a condição<b>"
   ]
  },
  {
   "cell_type": "code",
   "execution_count": 34,
   "metadata": {},
   "outputs": [
    {
     "name": "stdout",
     "output_type": "stream",
     "text": [
      "Informe a cor do semáforo: VERDE\n",
      "Verde: Permitido prosseguir\n"
     ]
    }
   ],
   "source": [
    "# VERIFICANDO OS AVISOS DO SEMÁFORO - MELHORADO\n",
    "\n",
    "cor_do_semaforo = input(\"Informe a cor do semáforo: \").capitalize()\n",
    "\n",
    "\n",
    "if cor_do_semaforo == \"Verde\":\n",
    "    print(\"Verde: Permitido prosseguir\")\n",
    "elif cor_do_semaforo == \"Amarelo\":\n",
    "    print(\"Amarelo: Atenção, reduza a velocidade!\")\n",
    "elif cor_do_semaforo == \"Vermelho\":\n",
    "    print(\"Vermelho: Pare!\")\n",
    "else:\n",
    "    print(\"Dado inválido! Digite uma cor válida\")"
   ]
  },
  {
   "cell_type": "markdown",
   "metadata": {},
   "source": [
    "  "
   ]
  },
  {
   "cell_type": "markdown",
   "metadata": {},
   "source": [
    "## Operadores Lógicos"
   ]
  },
  {
   "cell_type": "markdown",
   "metadata": {},
   "source": [
    "Os operadores lógicos são usados nas estruturas condicionais, que retornam VERDADEIRO ou FALSO para as condicoes testadas. São eles o <b>AND, OR, NOT<b>"
   ]
  },
  {
   "cell_type": "markdown",
   "metadata": {},
   "source": [
    "<b>Operador lógico AND</b>\n",
    "\n",
    "* Para uma estrutura lógica retornar verdadeiro, ambas as condicionais testadas (duas ou mais) devem ser verdadeiras"
   ]
  },
  {
   "cell_type": "code",
   "execution_count": 37,
   "metadata": {},
   "outputs": [
    {
     "name": "stdout",
     "output_type": "stream",
     "text": [
      "Qual sua idade: 66\n",
      "Você não é obrigado a votar\n"
     ]
    }
   ],
   "source": [
    "# VERIFICANDO SE A PESSOA É OBRIGADA A VOTAR (SE TEM IDADE MAIOR QUE 18 ANOS E MENOR QUE 65)\n",
    "\n",
    "resposta=int( input('Qual sua idade: ') )\n",
    "\n",
    "if resposta>=18 and resposta <=65:\n",
    "    print('Você é obrigado a votar!')\n",
    "else:\n",
    "    print('Você não é obrigado a votar')"
   ]
  },
  {
   "cell_type": "markdown",
   "metadata": {},
   "source": [
    "<b>Operador lógico OR</b>\n",
    "\n",
    "* Para uma estrutura lógica retornar verdadeiro, alguma das condicionais testadas (duas ou mais) deve ser verdadeiras"
   ]
  },
  {
   "cell_type": "code",
   "execution_count": 41,
   "metadata": {},
   "outputs": [
    {
     "name": "stdout",
     "output_type": "stream",
     "text": [
      "1. Idoso\n",
      "2. Gestante\n",
      "3. Deficiente Físico\n",
      "4. Nenhum destes\n",
      "Você é: 4\n",
      "Você não tem direito a nada, vá pra fila e aguarde sua vez!\n"
     ]
    }
   ],
   "source": [
    "# VERIFICANDO SE A PESSOA TEM DIREITO A FILA PRIORITÁRIA\n",
    "\n",
    "print('1. Idoso')\n",
    "print('2. Gestante')\n",
    "print('3. Deficiente Físico')\n",
    "print('4. Nenhum destes')\n",
    "resposta=int( input('Você é: ') )\n",
    "\n",
    "if (resposta==1) or (resposta==2) or (resposta==3) :\n",
    "    print('Você tem direito a fila prioritária')\n",
    "else:\n",
    "    print('Você não tem direito a nada, vá pra fila e aguarde sua vez!')"
   ]
  },
  {
   "cell_type": "markdown",
   "metadata": {},
   "source": [
    "<b>Operador lógico NOT</b>\n",
    "\n",
    "* Trata-se da inversao da lógica, ou seja, se a condição testada retornar verdadeiro, o operador lógico inverte retornando falso"
   ]
  },
  {
   "cell_type": "code",
   "execution_count": 46,
   "metadata": {},
   "outputs": [
    {
     "name": "stdout",
     "output_type": "stream",
     "text": [
      "1 - SIM\n",
      "2 - NÃO \n",
      "Você possui autorização dos pais para a viagem? 1\n",
      "Você tem autorização, portante pode viajar\n"
     ]
    }
   ],
   "source": [
    "# CONFIRMANDO SE O ESTUDANTE TEM OU NÃO AUTORIZAÇÃO PARA A VIAGEM DA ESCOLA\n",
    "\n",
    "\n",
    "print('1 - SIM')\n",
    "print('2 - NÃO ')\n",
    "autorizacao_pais = int(input(\"Você possui autorização dos pais para a viagem? \"))\n",
    "\n",
    "\n",
    "if not autorizacao_pais == 1:\n",
    "    print(\"Você NÃO tem autorização, por isso não pode viajar\")\n",
    "else:\n",
    "    print(\"Você tem autorização, portante pode viajar\")"
   ]
  }
 ],
 "metadata": {
  "kernelspec": {
   "display_name": "Python 3",
   "language": "python",
   "name": "python3"
  },
  "language_info": {
   "codemirror_mode": {
    "name": "ipython",
    "version": 3
   },
   "file_extension": ".py",
   "mimetype": "text/x-python",
   "name": "python",
   "nbconvert_exporter": "python",
   "pygments_lexer": "ipython3",
   "version": "3.8.5"
  }
 },
 "nbformat": 4,
 "nbformat_minor": 4
}
